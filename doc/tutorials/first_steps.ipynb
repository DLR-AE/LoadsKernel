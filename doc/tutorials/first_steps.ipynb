{
 "cells": [
  {
   "cell_type": "markdown",
   "id": "04b3f3d5",
   "metadata": {},
   "source": [
    "# First Steps\n",
    "This Tutorial will give a short introduction on how to use Loads Kernel. For more information on the theoretical background, please consult the User Guide. It is also assumed that you sucessfully installed the software as a Python package as described in the [README](https://github.com/DLR-AE/LoadsKernel#installation--use).\n",
    "\n",
    "To Do / Notes to myself\n",
    "- Jupyter Notebooks can be tested using the nbmake plugin for pytest, see https://pypi.org/project/nbmake/.\n",
    "To figure out if the notebooks are still working, \"pytest --nbmake \\*.ipynb\" will run a test of all notebook.\n",
    "- The Discus2c examples are not published, so switch to public example when available.\n",
    "\n",
    "Let's see if we can import the software, which is a good indictor for a sucessful installation. "
   ]
  },
  {
   "cell_type": "code",
   "execution_count": null,
   "id": "a4a55c00",
   "metadata": {},
   "outputs": [],
   "source": [
    "from loadskernel import program_flow"
   ]
  },
  {
   "cell_type": "markdown",
   "id": "9fef2689",
   "metadata": {},
   "source": [
    "## Initialization and Pre-Processing\n",
    "\n",
    "First, initialize the main module with the job name as well as input and output folders. Please adjust to your folder structure.\n",
    "\n",
    "The program flow is organized in a pre-, main- and post-processing step. These three steps\n",
    "need to be performed sequentially, but can be performed individually. This is an advantage in case you want to repeat e.g. the main- and/or post-processing while the model itself remained unchanged. Also, the main-processing may be run on a different computer or a high performance cluster while the results are copied back to\n",
    "the local file system for the post-processing step.\n",
    "\n",
    "Now, run Loads Kernel and observe the console output below. The runtime should be a few seconds and the glider below the cumulus clouds indicates the program finished."
   ]
  },
  {
   "cell_type": "code",
   "execution_count": null,
   "id": "744e8fab",
   "metadata": {},
   "outputs": [],
   "source": [
    "k = program_flow.Kernel(job_name='jcl_Discus2c_B2000', pre=True, main=False, post=False,\n",
    "                        path_input='../../loads-kernel-examples/Discus2c/JCLs',\n",
    "                        path_output='../../loads-kernel-examples/Discus2c/output')\n",
    "k.run()"
   ]
  },
  {
   "cell_type": "markdown",
   "id": "d11123f1",
   "metadata": {},
   "source": [
    "## The Log\n",
    "The log above should show only info messages, which give some information on the model or simply tell which step is currently performed. Other messages include warnings and errors, so it's always a good indea to check the log. The log messages are also written to a file in the output folder (defined perviously by \"path_output\")."
   ]
  },
  {
   "cell_type": "markdown",
   "id": "3eadd924",
   "metadata": {},
   "source": [
    "## Model Viewer\n",
    "As the preprocessing is finished, you should find a file \"model_\\*.hdf5\" in the output folder. You can explore the file with tools such as \"hdfview\" or use the Model Viewer to visualize the model. Note that HDF5 files have a locking mechnism, so always remember to close the file again.\n",
    "\n",
    "During the installation, a link should have been added to your system PATH, so that you can launch the the Model Viewer from the command line with \"model-viewer\". For this tutorial, we initialze the Model Viewer interactively from python. The Model Viewer is based on Mayavi, which is powerful for 3D visualizaions but needs a few seconds to be loaded.\n",
    "\n",
    "After a few seconds, new window should open, possibly in the background. Load the model via File -> Load model and start exploring! Remember that this GUI is not as robust and tested as you might be used form your daily software and it can break easily (e.g. random clicking, clicking buttons twice, etc.), so be careful and you will get some nice visualizations.\n",
    "\n",
    "The Model Viewer also allows for a visual inspection / quality control. For example, you can  \n",
    "- check that the geometry of the FE model is correct and that the model is complete\n",
    "- check that the mass distribution looks plausible\n",
    "- compare the center of gravity, mode shapes and frequencies with reference results\n",
    "- inspect the aerodynmic mesh for gaps, overlaps and aspect ratio\n",
    "- confirm that the control surfaces work correctly\n",
    "- etc."
   ]
  },
  {
   "cell_type": "code",
   "execution_count": null,
   "id": "43566f76",
   "metadata": {
    "tags": [
     "skip-execution"
    ]
   },
   "outputs": [],
   "source": [
    "from modelviewer import view\n",
    "m = view.Modelviewer()\n",
    "m.run()"
   ]
  },
  {
   "cell_type": "markdown",
   "id": "3eb3257e",
   "metadata": {},
   "source": [
    "## Main Processing\n",
    "\n",
    "The main-processing depends on the model data prepared in the pre-processing. In addition, a trim case definition is needed as input in the JCL. The first step of the main-processing is to establish a set of so-called trim\n",
    "conditions. The aircraft states are set as free or fixed according to the selected maneuver and\n",
    "in such a way that the system is neither over- nor under-determined. Next, the solution of this\n",
    "system is computed, yielding the trimmed aircraft.\n",
    "\n",
    "As the model hasn't changed, there is no need to run the pre-processing again, so it can be turned off while the main processing is switched on.\n",
    "\n",
    "Once the computation finished, look for \"The solution converged.\" in the log, which indicates that the algorithm was able to find a solution that satisfies all trim parameters. There will be two new files in the output folder: \"response_\\*.hdf5\" and \"monstations_\\*.hdf5\". In the response, all results are stored, such as the trim solution, the aerodynamic forces, the structural deformations, the nodal forces on the structure, etc. Depending on the model size and number of load cases, the file may become very large, especially for time domain simulations. Therefor, the second file only includes the section loads calculated at the monitoring stations. "
   ]
  },
  {
   "cell_type": "code",
   "execution_count": null,
   "id": "3c6bf524",
   "metadata": {},
   "outputs": [],
   "source": [
    "k = program_flow.Kernel(job_name='jcl_Discus2c_B2000', pre=False, main=True, post=False,\n",
    "                        path_input='../../loads-kernel-examples/Discus2c/JCLs',\n",
    "                        path_output='../../loads-kernel-examples/Discus2c/output')\n",
    "k.run()"
   ]
  },
  {
   "cell_type": "markdown",
   "id": "2faf762d",
   "metadata": {},
   "source": [
    "## Loads Compare\n",
    "To visualize the section loads interactively, the tool Loads Compare can be used. Similar to the Model Viewer, the Loads Compare tool can be launched from the command line with \"loads-compare\". You can try that now or, alternatively, execute the following two lines.\n",
    "\n",
    "Load the data via File -> Load Monstations. The GUI allows you to show the section loads in 2D envelopes, for example the wing root torsional moments My plotted over the bending moments Mx. Each dot in the plot corresponds to one load case or one time slice. You can also rename the dataset, change the color and load multiple datasets, which is handy to compare for example maneuver loads with gust loads or to identify differences in loads bewteen two sizing loops. "
   ]
  },
  {
   "cell_type": "code",
   "execution_count": null,
   "id": "74791581",
   "metadata": {
    "tags": [
     "skip-execution"
    ]
   },
   "outputs": [],
   "source": [
    "from loadscompare import compare\n",
    "c = compare.Compare()\n",
    "c.run()"
   ]
  },
  {
   "cell_type": "markdown",
   "id": "140ed193",
   "metadata": {},
   "source": [
    "## Post Processing\n",
    "\n",
    "The post-processing is dedicated to the evaluation, visualization and export of the results. The sizing load cases are identified by the convex hull for the monitoring stations specified in the JCL. The automated plotting and creation of PDF documents allows for a fast control of the results and a quick detection of erroneous data by the user. \n",
    "\n",
    "After the post-processing, you should see the following outputs:\n",
    "- The section loads are plotted at the monitoring stations and saved in a PDF document (if specified in the JCL).\n",
    "- The trim results are exported as a CSV file.\n",
    "- Three more CSV files simply list the failed, the sucessful and the critical trim cases. \n",
    "- The nodal forces acting on the structure are exported in MSC.Nastran format using FORCE and MOMENT cards.\n",
    "\n",
    "For further analyses or custom plots you can open the response file in Python, Matlab or your favorite tool that understands HDF5."
   ]
  },
  {
   "cell_type": "code",
   "execution_count": null,
   "id": "1151d9ec",
   "metadata": {},
   "outputs": [],
   "source": [
    "k = program_flow.Kernel(job_name='jcl_Discus2c_B2000', pre=False, main=False, post=True,\n",
    "                        path_input='../../loads-kernel-examples/Discus2c/JCLs',\n",
    "                        path_output='../../loads-kernel-examples/Discus2c/output')\n",
    "k.run()"
   ]
  }
 ],
 "metadata": {
  "celltoolbar": "Tags",
  "kernelspec": {
   "display_name": "Python 3 (ipykernel)",
   "language": "python",
   "name": "python3"
  },
  "language_info": {
   "codemirror_mode": {
    "name": "ipython",
    "version": 3
   },
   "file_extension": ".py",
   "mimetype": "text/x-python",
   "name": "python",
   "nbconvert_exporter": "python",
   "pygments_lexer": "ipython3",
   "version": "3.8.12"
  }
 },
 "nbformat": 4,
 "nbformat_minor": 5
}
