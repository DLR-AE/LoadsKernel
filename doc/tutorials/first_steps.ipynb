{
 "cells": [
  {
   "cell_type": "markdown",
   "id": "04b3f3d5",
   "metadata": {},
   "source": [
    "# First Steps\n",
    "\n",
    "This tutorial will give a short introduction on how to use <em>Loads Kernel</em>. For more information on the theoretical background, please consult the User Guide. It is also assumed that you sucessfully installed the software as a Python package as described in the [README](https://github.com/DLR-AE/LoadsKernel#installation--use).\n",
    "\n",
    "To Do / Notes to myself\n",
    "- Jupyter Notebooks can be tested using the nbmake plugin for pytest, see https://pypi.org/project/nbmake/.\n",
    "To figure out if the notebooks are still working, \"pytest --nbmake \\*.ipynb\" will run a test of all notebook.\n",
    "- The Discus2c examples are not published, so switch to public example when available.\n",
    "\n",
    "Let's see if we can import the software, which is a good indictor for a sucessful installation. "
   ]
  },
  {
   "cell_type": "code",
   "execution_count": 1,
   "id": "a4a55c00",
   "metadata": {
    "tags": [
     "skip-execution"
    ]
   },
   "outputs": [],
   "source": [
    "from loadskernel import program_flow"
   ]
  },
  {
   "cell_type": "markdown",
   "id": "9fef2689",
   "metadata": {},
   "source": [
    "## Initialization and Pre-Processing\n",
    "\n",
    "First, initialize the main module with the job name as well as input and output folders. Please adjust to your folder structure.\n",
    "\n",
    "The program flow is organized in a pre-, main- and post-processing step. These three steps\n",
    "need to be performed sequentially, but can be performed individually. This is an advantage in case you want to repeat e.g. the main- and/or post-processing while the model itself remained unchanged. Also, the main-processing may be run on a different computer or a high performance cluster while the results are copied back to\n",
    "the local file system for the post-processing step.\n",
    "\n",
    "Now, run Loads Kernel and observe the console output below. The runtime should be a few seconds and the glider below the cumulus clouds indicates the program finished."
   ]
  },
  {
   "cell_type": "code",
   "execution_count": 2,
   "id": "744e8fab",
   "metadata": {
    "tags": [
     "skip-execution"
    ]
   },
   "outputs": [
    {
     "name": "stdout",
     "output_type": "stream",
     "text": [
      "INFO: This is the log for process 0.\n",
      "INFO: Starting Loads Kernel with job: jcl_dc3_trim\n",
      "INFO: User carn_fr on schwalbe (Linux-4.18.0-513.24.1.el8_9.x86_64-x86_64-with-glibc2.28)\n",
      "INFO: pre:  True\n",
      "INFO: main: False\n",
      "INFO: post: False\n",
      "INFO: test: False\n",
      "INFO: --> Reading parameters from JCL.\n",
      "INFO: Generated list of 3 empty dicts.\n",
      "INFO: --> Starting preprocessing.\n",
      "INFO: Building structural model...\n",
      "INFO: Read from file: /data/carn_fr/LoadsKernel/doc/tutorials/DC3_model/fem/structure_only.bdf\n",
      "INFO: Found include(s):\n",
      "INFO: Read from file: /data/carn_fr/LoadsKernel/doc/tutorials/DC3_model/fem/../fem/export_FUS.csv\n",
      "INFO: Read from file: /data/carn_fr/LoadsKernel/doc/tutorials/DC3_model/fem/../fem/left-wing/left-wing.GRID_LREFAX_5400001\n",
      "INFO: Read from file: /data/carn_fr/LoadsKernel/doc/tutorials/DC3_model/fem/../fem/left-wing/left-wing.RBE2_LREFAX_5400001\n",
      "INFO: Read from file: /data/carn_fr/LoadsKernel/doc/tutorials/DC3_model/fem/../fem/left-wing/left-wing.CORD2R_LREFAX\n",
      "INFO: Read from file: /data/carn_fr/LoadsKernel/doc/tutorials/DC3_model/fem/../fem/left-wing/left-wing.MAT_ZR\n",
      "INFO: Read from file: /data/carn_fr/LoadsKernel/doc/tutorials/DC3_model/fem/../fem/left-wing/export_left-wing.csv\n",
      "INFO: Read from file: /data/carn_fr/LoadsKernel/doc/tutorials/DC3_model/fem/../fem/right-wing/right-wing.GRID_LREFAX_6400001\n",
      "INFO: Read from file: /data/carn_fr/LoadsKernel/doc/tutorials/DC3_model/fem/../fem/right-wing/right-wing.RBE2_LREFAX_6400001\n",
      "INFO: Read from file: /data/carn_fr/LoadsKernel/doc/tutorials/DC3_model/fem/../fem/right-wing/right-wing.CORD2R_LREFAX\n",
      "INFO: Read from file: /data/carn_fr/LoadsKernel/doc/tutorials/DC3_model/fem/../fem/right-wing/right-wing.MAT_ZR\n",
      "INFO: Read from file: /data/carn_fr/LoadsKernel/doc/tutorials/DC3_model/fem/../fem/right-wing//export_right-wing.csv\n",
      "INFO: Read from file: /data/carn_fr/LoadsKernel/doc/tutorials/DC3_model/fem/../fem/left-ht/left-ht.GRID_LREFAX_3330001\n",
      "INFO: Read from file: /data/carn_fr/LoadsKernel/doc/tutorials/DC3_model/fem/../fem/left-ht/left-ht.RBE2_LREFAX_3330001\n",
      "INFO: Read from file: /data/carn_fr/LoadsKernel/doc/tutorials/DC3_model/fem/../fem/left-ht/left-ht.CORD2R_LREFAX\n",
      "INFO: Read from file: /data/carn_fr/LoadsKernel/doc/tutorials/DC3_model/fem/../fem/left-ht/left-ht.MAT_ZR\n",
      "INFO: Read from file: /data/carn_fr/LoadsKernel/doc/tutorials/DC3_model/fem/../fem/left-ht/export_left-ht.csv\n",
      "INFO: Read from file: /data/carn_fr/LoadsKernel/doc/tutorials/DC3_model/fem/../fem/right-ht/right-ht.GRID_LREFAX_3340001\n",
      "INFO: Read from file: /data/carn_fr/LoadsKernel/doc/tutorials/DC3_model/fem/../fem/right-ht/right-ht.RBE2_LREFAX_3340001\n",
      "INFO: Read from file: /data/carn_fr/LoadsKernel/doc/tutorials/DC3_model/fem/../fem/right-ht/right-ht.CORD2R_LREFAX\n",
      "INFO: Read from file: /data/carn_fr/LoadsKernel/doc/tutorials/DC3_model/fem/../fem/right-ht/right-ht.MAT_ZR\n",
      "INFO: Read from file: /data/carn_fr/LoadsKernel/doc/tutorials/DC3_model/fem/../fem/right-ht/export_right-ht.csv\n",
      "INFO: Read from file: /data/carn_fr/LoadsKernel/doc/tutorials/DC3_model/fem/../fem/vt/vt.GRID_LREFAX_3320001\n",
      "INFO: Read from file: /data/carn_fr/LoadsKernel/doc/tutorials/DC3_model/fem/../fem/vt/vt.RBE2_LREFAX_3320001\n",
      "INFO: Read from file: /data/carn_fr/LoadsKernel/doc/tutorials/DC3_model/fem/../fem/vt/vt.CORD2R_LREFAX\n",
      "INFO: Read from file: /data/carn_fr/LoadsKernel/doc/tutorials/DC3_model/fem/../fem/vt/vt.MAT_ZR\n",
      "INFO: Read from file: /data/carn_fr/LoadsKernel/doc/tutorials/DC3_model/fem/../fem/vt/export_vt.csv\n",
      "INFO: Read from file: /data/carn_fr/LoadsKernel/doc/tutorials/DC3_model/fem/../fem/export_left-nacell.csv\n",
      "INFO: Read from file: /data/carn_fr/LoadsKernel/doc/tutorials/DC3_model/fem/../fem/export_right-nacell.csv\n",
      "INFO: The structural model consists of 278 grid points (1668 DoFs) and 7 coordinate systems.\n",
      "INFO: Reading Monitoring Stations from MONPNTs...\n",
      "INFO: Read from file: /data/carn_fr/LoadsKernel/doc/tutorials/DC3_model/fem/export_monitoring-stations.csv\n",
      "INFO: Splining (rigid body) of 1668 DOFs to 192 DOFs...\n",
      "INFO: Building atmo model...\n",
      "INFO: Building aero model...\n",
      "INFO: Read from file: /data/carn_fr/LoadsKernel/doc/tutorials/DC3_model/aero/vt/vt.CAERO1\n",
      "INFO: Read from file: /data/carn_fr/LoadsKernel/doc/tutorials/DC3_model/aero/left-ht/left-ht.CAERO1\n",
      "INFO: Read from file: /data/carn_fr/LoadsKernel/doc/tutorials/DC3_model/aero/right-ht/right-ht.CAERO1\n",
      "INFO: Read from file: /data/carn_fr/LoadsKernel/doc/tutorials/DC3_model/aero/left-wing/left-wing.CAERO1\n",
      "INFO: Read from file: /data/carn_fr/LoadsKernel/doc/tutorials/DC3_model/aero/right-wing/right-wing.CAERO1\n",
      "INFO: Constructing aero panels from CAERO cards\n",
      "INFO:  - from corner points and aero panels, constructing aerogrid\n",
      "INFO: Read W2GJ data from file: /data/carn_fr/LoadsKernel/doc/tutorials/DC3_model/fem/w2gj_list.DMI_merge\n",
      "INFO: Splining (rigid body) of 6336 DOFs to 6336 DOFs...\n",
      "INFO: Splining (rigid body) of 6336 DOFs to 6336 DOFs...\n",
      "INFO: Splining (rigid body) of 6336 DOFs to 6 DOFs...\n",
      "INFO: Read from file: /data/carn_fr/LoadsKernel/doc/tutorials/DC3_model/aero/vt/vt.AESURF\n",
      "INFO: Read from file: /data/carn_fr/LoadsKernel/doc/tutorials/DC3_model/aero/left-ht/left-ht.AESURF\n",
      "INFO: Read from file: /data/carn_fr/LoadsKernel/doc/tutorials/DC3_model/aero/right-ht/right-ht.AESURF\n",
      "INFO: Read from file: /data/carn_fr/LoadsKernel/doc/tutorials/DC3_model/aero/left-wing/left-wing.AESURF\n",
      "INFO: Read from file: /data/carn_fr/LoadsKernel/doc/tutorials/DC3_model/aero/right-wing/right-wing.AESURF\n",
      "INFO: Read from file: /data/carn_fr/LoadsKernel/doc/tutorials/DC3_model/aero/vt/vt.AELIST\n",
      "INFO: Read from file: /data/carn_fr/LoadsKernel/doc/tutorials/DC3_model/aero/left-ht/left-ht.AELIST\n",
      "INFO: Read from file: /data/carn_fr/LoadsKernel/doc/tutorials/DC3_model/aero/right-ht/right-ht.AELIST\n",
      "INFO: Read from file: /data/carn_fr/LoadsKernel/doc/tutorials/DC3_model/aero/left-wing/left-wing.AELIST\n",
      "INFO: Read from file: /data/carn_fr/LoadsKernel/doc/tutorials/DC3_model/aero/right-wing/right-wing.AELIST\n",
      "INFO: Splining (rigid body) of 6336 DOFs to 6 DOFs...\n",
      "INFO: Splining (rigid body) of 6336 DOFs to 6 DOFs...\n",
      "INFO: Splining (rigid body) of 6336 DOFs to 6 DOFs...\n",
      "INFO: Splining (rigid body) of 6336 DOFs to 6 DOFs...\n",
      "INFO: Splining (rigid body) of 6336 DOFs to 6 DOFs...\n",
      "INFO: Calculating steady AIC matrices (1056 panels, k=0.0) for 2 Mach number(s)...\n",
      "INFO: done in 0.92 [sec].\n",
      "INFO: The aerodynamic model consists of 1056 panels and 5 control surfaces.\n",
      "INFO: Coupling aerogrid directly. Doing cleanup/thin out of strcgrid to avoid singularities                     (safety first!)\n",
      "INFO: The spline model consists of 272 grid points.\n",
      "INFO: Searching nearest neighbour of 1056 dependent nodes in 272 independent nodes...\n",
      "INFO: Splining (rigid body) of 6336 DOFs to 1668 DOFs...\n",
      "INFO: Building stiffness and mass model...\n",
      "INFO: Reading matrix KGG from /data/carn_fr/LoadsKernel/doc/tutorials/DC3_model/fem/SOL103_structure_only.mtx.h5\n",
      "INFO: Reading matrix GM from /data/carn_fr/LoadsKernel/doc/tutorials/DC3_model/fem/SOL103_structure_only.mtx.h5\n",
      "INFO: Read USET from OP2-file /data/carn_fr/LoadsKernel/doc/tutorials/DC3_model/fem/uset.op2 ...\n",
      "Table  USET    , bytes =       6935 [         0 to       6936]\n",
      "INFO: Extracting bit positions from USET to determine DoFs\n",
      "INFO: Prepare stiffness matrices for independent and free DoFs (f-set)\n",
      "INFO: Mass configuration 1 of 1: M3 \n",
      "INFO: Reading matrix MGG from /data/carn_fr/LoadsKernel/doc/tutorials/DC3_model/fem/SOL103_M3.mtx.h5\n",
      "INFO: Calculate center of gravity, mass and inertia (GRDPNT)...\n",
      "INFO: Splining (rigid body) of 1668 DOFs to 6 DOFs...\n",
      "INFO: Splining (rigid body) of 1668 DOFs to 6 DOFs...\n",
      "INFO: Mass: 11883.983000000002\n",
      "INFO: CG at: [8.62280419e+00 5.43474355e-08 3.11704131e-01]\n",
      "INFO: Inertia: \n",
      "[[ 6.93201323e+04 -3.80956656e-04  1.17729353e+04]\n",
      " [-3.80956654e-04  1.40925492e+05 -1.74794555e-04]\n",
      " [ 1.17729353e+04 -1.74794555e-04  1.97104534e+05]]\n",
      "INFO: Prepare mass matrices for independent and free DoFs (f-set)\n",
      "INFO: Modal analysis for first 76 modes...\n",
      "INFO: Found 76 modes with the following frequencies [Hz]:\n",
      "INFO: [           nan            nan 1.05457802e-06 4.52538930e-06\n",
      " 1.45457362e-05 3.39333114e-05 3.13716140e+00 4.68251648e+00\n",
      " 7.20798842e+00 7.88159198e+00 8.33703334e+00 8.49130434e+00\n",
      " 9.88499185e+00 1.25695152e+01 1.53520000e+01 1.70224904e+01\n",
      " 1.71353125e+01 1.84415883e+01 2.53323405e+01 2.53529787e+01\n",
      " 2.68433851e+01 2.81886245e+01 3.20724571e+01 3.24562324e+01\n",
      " 3.51081211e+01 3.52877859e+01 3.71484020e+01 3.74387461e+01\n",
      " 4.65087795e+01 4.66555395e+01 5.19704569e+01 5.31897897e+01\n",
      " 5.59827047e+01 5.61588818e+01 5.79161872e+01 5.83859187e+01\n",
      " 6.49254027e+01 6.49636994e+01 6.52953993e+01 6.55893563e+01\n",
      " 6.76977070e+01 7.39272939e+01 7.40020584e+01 7.92493678e+01\n",
      " 7.98448917e+01 8.44686963e+01 8.44977700e+01 8.89696420e+01\n",
      " 8.90380160e+01 9.17266784e+01 9.27516791e+01 1.00718906e+02\n",
      " 1.00742526e+02 1.05800840e+02 1.06520421e+02 1.09898735e+02\n",
      " 1.10071029e+02 1.12603325e+02 1.12677121e+02 1.21628942e+02\n",
      " 1.21633308e+02 1.25797288e+02 1.25826624e+02 1.30369009e+02\n",
      " 1.30516978e+02 1.37566261e+02 1.37608584e+02 1.41676350e+02\n",
      " 1.44303157e+02 1.44811563e+02 1.47038007e+02 1.47151873e+02\n",
      " 1.55547154e+02 1.56081100e+02 1.56183006e+02 1.57181628e+02]\n",
      "INFO: From these 76 modes, the following 70 modes are selected: [ 7  8  9 10 11 12 13 14 15 16 17 18 19 20 21 22 23 24 25 26 27 28 29 30\n",
      " 31 32 33 34 35 36 37 38 39 40 41 42 43 44 45 46 47 48 49 50 51 52 53 54\n",
      " 55 56 57 58 59 60 61 62 63 64 65 66 67 68 69 70 71 72 73 74 75 76]\n",
      "INFO: Working on f-set\n",
      "INFO: Damping: modal damping of 0.02\n",
      "INFO: Working on h-set\n",
      "INFO: Splining (rigid body) of 1668 DOFs to 6 DOFs...\n",
      "INFO: Damping: modal damping of 0.02\n",
      "INFO: Splining (rigid body) of 1668 DOFs to 6 DOFs...\n",
      "INFO: Splining (rigid body) of 6 DOFs to 6 DOFs...\n",
      "INFO: Splining (rigid body) of 6 DOFs to 6 DOFs...\n",
      "INFO: Splining (rigid body) of 6 DOFs to 6 DOFs...\n",
      "INFO: Splining (rigid body) of 6 DOFs to 6 DOFs...\n",
      "INFO: --> Saving model data.\n",
      "INFO: --> Done in 0:00:04 [h:mm:ss].\n",
      "INFO: Loads Kernel finished.\n",
      "INFO: \n",
      "INFO:        (  )\n",
      "INFO:       (    )\n",
      "INFO: \n",
      "INFO:               (   )\n",
      "INFO:              (     )\n",
      "INFO: \n",
      "INFO:          _|_\n",
      "INFO:  ---------O---------\n",
      "INFO: \n",
      "INFO: \n"
     ]
    }
   ],
   "source": [
    "k = program_flow.Kernel('jcl_dc3_trim', pre=True, main=False, post=False,\n",
    "                        path_input='./DC3_model/JCLs',\n",
    "                        path_output='./DC3_results')\n",
    "k.run()"
   ]
  },
  {
   "cell_type": "markdown",
   "id": "d11123f1",
   "metadata": {},
   "source": [
    "## The Log\n",
    "The log above should show only info messages, which give some information on the model or simply tell which step is currently performed. Other messages include warnings and errors, so it's always a good indea to check the log. The log messages are also written to a file in the output folder (defined perviously by \"path_output\")."
   ]
  },
  {
   "cell_type": "markdown",
   "id": "3eadd924",
   "metadata": {},
   "source": [
    "## Model Viewer\n",
    "As the preprocessing is finished, you should find a file \"model_\\*.hdf5\" in the output folder. You can explore the file with tools such as \"hdfview\" or use the <em>Model Viewer</em> to visualize the model. Note that HDF5 files have a locking mechnism, so always remember to close the file again.\n",
    "\n",
    "During the installation, a link should have been added to your system PATH, so that you can launch the the Model Viewer from the command line with \"model-viewer\". For this tutorial, we initialze the <em>Model Viewer</em> interactively from python. The Model Viewer is based on Mayavi, which is powerful for 3D visualizaions but needs a few seconds to be loaded.\n",
    "\n",
    "After a few seconds, new window should open, possibly in the background. Load the model via File -> Load model and start exploring! Remember that this GUI is not as robust and tested as you might be used form your daily software and it can break easily (e.g. random clicking, clicking buttons twice, etc.), so be careful and you will get some nice visualizations.\n",
    "\n",
    "The Model Viewer also allows for a visual inspection / quality control. For example, you can  \n",
    "- check that the geometry of the FE model is correct and that the model is complete\n",
    "- check that the mass distribution looks plausible\n",
    "- compare the center of gravity, mode shapes and frequencies with reference results\n",
    "- inspect the aerodynmic mesh for gaps, overlaps and aspect ratio\n",
    "- confirm that the control surfaces work correctly\n",
    "- etc."
   ]
  },
  {
   "cell_type": "code",
   "execution_count": 3,
   "id": "f5987cf8-628d-406b-aaed-9af22e008bd1",
   "metadata": {
    "tags": [
     "skip-execution"
    ]
   },
   "outputs": [
    {
     "name": "stderr",
     "output_type": "stream",
     "text": [
      "Qt: Session management error: None of the authentication protocols specified are supported\n"
     ]
    }
   ],
   "source": [
    "from modelviewer import view\n",
    "m = view.Modelviewer()\n",
    "m.run()"
   ]
  },
  {
   "cell_type": "markdown",
   "id": "3eb3257e",
   "metadata": {},
   "source": [
    "## Main Processing\n",
    "\n",
    "The main-processing depends on the model data prepared in the pre-processing. In addition, a trim case definition is needed as input in the JCL. The first step of the main-processing is to establish a set of so-called trim\n",
    "conditions. The aircraft states are set as free or fixed according to the selected maneuver and\n",
    "in such a way that the system is neither over- nor under-determined. Next, the solution of this\n",
    "system is computed, yielding the trimmed aircraft.\n",
    "\n",
    "As the model hasn't changed, there is no need to run the pre-processing again, so it can be turned off while the main processing is switched on.\n",
    "\n",
    "Once the computation finished, look for \"The solution converged.\" in the log, which indicates that the algorithm was able to find a solution that satisfies all trim parameters. There will be two new files in the output folder: \"response_\\*.hdf5\" and \"monstations_\\*.hdf5\". In the response, all results are stored, such as the trim solution, the aerodynamic forces, the structural deformations, the nodal forces on the structure, etc. Depending on the model size and number of load cases, the file may become very large, especially for time domain simulations. Therefor, the second file only includes the section loads calculated at the monitoring stations. "
   ]
  },
  {
   "cell_type": "code",
   "execution_count": 4,
   "id": "3c6bf524",
   "metadata": {
    "tags": [
     "skip-execution"
    ]
   },
   "outputs": [
    {
     "name": "stdout",
     "output_type": "stream",
     "text": [
      "INFO: This is the log for process 0.\n",
      "INFO: Starting Loads Kernel with job: jcl_dc3_trim\n",
      "INFO: User carn_fr on schwalbe (Linux-4.18.0-513.24.1.el8_9.x86_64-x86_64-with-glibc2.28)\n",
      "INFO: pre:  False\n",
      "INFO: main: True\n",
      "INFO: post: False\n",
      "INFO: test: False\n",
      "INFO: --> Reading parameters from JCL.\n",
      "INFO: Generated list of 3 empty dicts.\n",
      "INFO: --> Starting Main in sequential mode for 3 trimcase(s).\n",
      "INFO: \n",
      "INFO: ========================================\n",
      "INFO: trimcase: CC.M3.OVCFL000.level\n",
      "INFO: subcase: 1\n",
      "INFO: (case 1 of 3)\n",
      "INFO: ========================================\n",
      "INFO: Setting trim conditions to \"default\"\n",
      "INFO: Init model equations of type \"Steady\"\n",
      "INFO: Init EFCS \"efcs_dc3\"\n",
      "INFO: Running trim for 76 variables...\n",
      "INFO: The solution converged.\n",
      "INFO: calculating forces & moments on structural set (force summation method)...\n",
      "INFO: apply euler angles...\n",
      "INFO: calculating cutting forces & moments...\n",
      "INFO: gathering information on monitoring stations from response(s)...\n",
      "INFO: searching min/max in time data at 32 monitoring stations and gathering loads (dyn2stat)...\n",
      "INFO: --> Saving response(s).\n",
      "INFO: \n",
      "INFO: ========================================\n",
      "INFO: trimcase: CC.M3.OVCFL000.pushdown\n",
      "INFO: subcase: 2\n",
      "INFO: (case 2 of 3)\n",
      "INFO: ========================================\n",
      "INFO: Setting trim conditions to \"default\"\n",
      "INFO: Init model equations of type \"Steady\"\n",
      "INFO: Init EFCS \"efcs_dc3\"\n",
      "INFO: Running trim for 76 variables...\n",
      "INFO: The solution converged.\n",
      "INFO: calculating forces & moments on structural set (force summation method)...\n",
      "INFO: apply euler angles...\n",
      "INFO: calculating cutting forces & moments...\n",
      "INFO: gathering information on monitoring stations from response(s)...\n",
      "INFO: searching min/max in time data at 32 monitoring stations and gathering loads (dyn2stat)...\n",
      "INFO: --> Saving response(s).\n",
      "INFO: \n",
      "INFO: ========================================\n",
      "INFO: trimcase: CC.M3.OVCFL000.pullup\n",
      "INFO: subcase: 3\n",
      "INFO: (case 3 of 3)\n",
      "INFO: ========================================\n",
      "INFO: Setting trim conditions to \"default\"\n",
      "INFO: Init model equations of type \"Steady\"\n",
      "INFO: Init EFCS \"efcs_dc3\"\n",
      "INFO: Running trim for 76 variables...\n",
      "INFO: The solution converged.\n",
      "INFO: calculating forces & moments on structural set (force summation method)...\n",
      "INFO: apply euler angles...\n",
      "INFO: calculating cutting forces & moments...\n",
      "INFO: gathering information on monitoring stations from response(s)...\n",
      "INFO: searching min/max in time data at 32 monitoring stations and gathering loads (dyn2stat)...\n",
      "INFO: --> Saving response(s).\n",
      "INFO: --> Saving monstation(s).\n",
      "INFO: --> Saving dyn2stat.\n",
      "INFO: --> Done in 0:00:02 [h:mm:ss].\n",
      "INFO: Loads Kernel finished.\n",
      "INFO: \n",
      "INFO:        (  )\n",
      "INFO:       (    )\n",
      "INFO: \n",
      "INFO:               (   )\n",
      "INFO:              (     )\n",
      "INFO: \n",
      "INFO:          _|_\n",
      "INFO:  ---------O---------\n",
      "INFO: \n",
      "INFO: \n"
     ]
    }
   ],
   "source": [
    "k = program_flow.Kernel(job_name='jcl_dc3_trim', pre=False, main=True, post=False,\n",
    "                        path_input='./DC3_model/JCLs',\n",
    "                        path_output='./DC3_results')\n",
    "k.run()"
   ]
  },
  {
   "cell_type": "markdown",
   "id": "2faf762d",
   "metadata": {},
   "source": [
    "## Loads Compare\n",
    "To visualize the section loads interactively, the tool <em>Loads Compare</em> can be used. Similar to the <em>Model Viewer</em>, the <em>Loads Compare</em> tool can be launched from the command line with \"loads-compare\". You can try that now or, alternatively, execute the following two lines.\n",
    "\n",
    "Load the data via File -> Load Monstations. The GUI allows you to show the section loads in 2D envelopes, for example the wing root torsional moments My plotted over the bending moments Mx. Each dot in the plot corresponds to one load case or one time slice. You can also rename the dataset, change the color and load multiple datasets, which is handy to compare for example maneuver loads with gust loads or to identify differences in loads bewteen two sizing loops. "
   ]
  },
  {
   "cell_type": "code",
   "execution_count": 5,
   "id": "74791581",
   "metadata": {
    "tags": [
     "skip-execution"
    ]
   },
   "outputs": [
    {
     "name": "stderr",
     "output_type": "stream",
     "text": [
      "Qt: Session management error: None of the authentication protocols specified are supported\n"
     ]
    }
   ],
   "source": [
    "from loadscompare import compare\n",
    "c = compare.Compare()\n",
    "c.run()"
   ]
  },
  {
   "cell_type": "markdown",
   "id": "140ed193",
   "metadata": {},
   "source": [
    "## Post Processing\n",
    "\n",
    "The post-processing is dedicated to the evaluation, visualization and export of the results. The sizing load cases are identified by the convex hull for the monitoring stations specified in the JCL. The automated plotting and creation of PDF documents allows for a fast control of the results and a quick detection of erroneous data by the user. \n",
    "\n",
    "After the post-processing, you should see the following outputs:\n",
    "- The section loads are plotted at the monitoring stations and saved in a PDF document (if specified in the JCL).\n",
    "- The trim results are exported as a CSV file.\n",
    "- Three more CSV files simply list the failed, the sucessful and the critical trim cases. \n",
    "- The nodal forces acting on the structure are exported in <em>MSC Nastran</em> format using FORCE and MOMENT cards.\n",
    "\n",
    "For further analyses or custom plots you can open the response file in <em>Python</em>, <em>Matlab</em> or your favorite tool that understands HDF5."
   ]
  },
  {
   "cell_type": "code",
   "execution_count": 6,
   "id": "1151d9ec",
   "metadata": {
    "tags": [
     "skip-execution"
    ]
   },
   "outputs": [
    {
     "name": "stdout",
     "output_type": "stream",
     "text": [
      "INFO: This is the log for process 0.\n",
      "INFO: Starting Loads Kernel with job: jcl_dc3_trim\n",
      "INFO: User carn_fr on schwalbe (Linux-4.18.0-513.24.1.el8_9.x86_64-x86_64-with-glibc2.28)\n",
      "INFO: pre:  False\n",
      "INFO: main: False\n",
      "INFO: post: True\n",
      "INFO: test: False\n",
      "INFO: --> Reading parameters from JCL.\n",
      "INFO: Generated list of 3 empty dicts.\n",
      "INFO: --> Opening response(s).\n",
      "INFO: --> Loading monstations(s).\n",
      "INFO: --> Loading dyn2stat.\n",
      "INFO: --> Drawing some standard plots.\n",
      "INFO: start potato-plotting...\n",
      "INFO: start plotting cutting forces along wing...\n",
      "INFO: plots saved as ./DC3_results/monstations_jcl_dc3_trim.pdf\n",
      "INFO: --> Saving auxiliary output data.\n",
      "INFO: writing trim results to: ./DC3_results/trim_results_jcl_dc3_trim.csv\n",
      "INFO: writing successful trimcases cases to: ./DC3_results/successful_trimcases_jcl_dc3_trim.csv\n",
      "INFO: writing failed trimcases cases to: ./DC3_results/failed_trimcases_jcl_dc3_trim.csv\n",
      "INFO: writing critical trimcases cases to: ./DC3_results/crit_trimcases_jcl_dc3_trim.csv\n",
      "INFO: saving critical nodal loads as Nastarn cards...\n",
      "INFO: Loads Kernel finished.\n",
      "INFO: \n",
      "INFO:        (  )\n",
      "INFO:       (    )\n",
      "INFO: \n",
      "INFO:               (   )\n",
      "INFO:              (     )\n",
      "INFO: \n",
      "INFO:          _|_\n",
      "INFO:  ---------O---------\n",
      "INFO: \n",
      "INFO: \n"
     ]
    }
   ],
   "source": [
    "k = program_flow.Kernel(job_name='jcl_dc3_trim', pre=False, main=False, post=True,\n",
    "                        path_input='./DC3_model/JCLs',\n",
    "                        path_output='./DC3_results')\n",
    "k.run()"
   ]
  }
 ],
 "metadata": {
  "celltoolbar": "Tags",
  "kernelspec": {
   "display_name": "Python 3 (ipykernel)",
   "language": "python",
   "name": "python3"
  },
  "language_info": {
   "codemirror_mode": {
    "name": "ipython",
    "version": 3
   },
   "file_extension": ".py",
   "mimetype": "text/x-python",
   "name": "python",
   "nbconvert_exporter": "python",
   "pygments_lexer": "ipython3",
   "version": "3.10.13"
  }
 },
 "nbformat": 4,
 "nbformat_minor": 5
}
